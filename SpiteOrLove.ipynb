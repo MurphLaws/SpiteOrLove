{
 "cells": [
  {
   "cell_type": "code",
   "execution_count": null,
   "metadata": {},
   "outputs": [],
   "source": [
    "import pandas as pd\n",
    "import spotipy  \n",
    "from spotipy.oauth2 import SpotifyClientCredentials\n",
    "import os\n",
    "from dotenv import load_dotenv\n",
    "\n",
    "# load environment variables from .env file\n",
    "load_dotenv()\n",
    "\n",
    "CLIENT_ID = os.getenv('CLIENT_ID')\n",
    "SECRET_ID = os.getenv('SECRET_ID')\n",
    "ACCESS_TOKEN = os.getenv('ACCESS_TOKEN')\n",
    "MUSICXMATCH = os.getenv('MUSICXMATCH')\n",
    "\n",
    "\n",
    "client_credentials_manager = SpotifyClientCredentials(client_id=CLIENT_ID, client_secret=SECRET_ID)\n",
    "sp = spotipy.Spotify(client_credentials_manager=client_credentials_manager)\n",
    "\n",
    "results = sp.search(q='Despecho', type='track')\n",
    "#Print the name of each song\n",
    "\n",
    "\n",
    "#firstSong = results['tracks']['items'][0]\n",
    "#firstSong['artists'][0]['name']\n",
    "\n",
    "songs = []\n",
    "for song in results['tracks']['items']:\n",
    "   songs.append((song['name'], [artist['name'] for artist in song['artists']]))\n",
    "\n",
    "for song in songs:\n",
    "   print(song[0],' by ',song[1])"
   ]
  },
  {
   "cell_type": "code",
   "execution_count": null,
   "metadata": {},
   "outputs": [],
   "source": [
    "results = sp.search(q='Amor', type='track')\n",
    "\n",
    "#Get tracks from spotify playlist url\n",
    "\n",
    "url = 'https://open.spotify.com/playlist/1oj5pzkKVfNDg6MDhk2XHf?si=b279724e3aaf45ab'\n",
    "playlist_id = url.split('/')[-1].split('?')[0]\n",
    "results = sp.playlist(playlist_id)\n",
    "results\n",
    "\n",
    "#Name\n",
    "#results['tracks']['items'][ITER]['track']['name']\n",
    "\n",
    "#Artists\n",
    "#results['tracks']['items'][ITER]['track']['artists'][0]['name']\n",
    "\n",
    "\n",
    "songs = []\n",
    "for song in results['tracks']['items']:\n",
    "    songs.append((song['track']['name'], song['track']['artists'][0]['name']))"
   ]
  },
  {
   "cell_type": "code",
   "execution_count": 12,
   "metadata": {},
   "outputs": [],
   "source": [
    "\n",
    "\n",
    "import nltk\n",
    "from nltk.corpus import stopwords\n",
    "stopwords.words('spanish')\n",
    "\n",
    "\n",
    "#define the funcion get_words, that tokenized the input strings, and lowercase them, remove punctuation and stopwords\n",
    "#and returns a list of words\n",
    "def get_words(lyrics):\n",
    "    words = nltk.word_tokenize(lyrics)\n",
    "    words = [word.lower() for word in words if word.isalpha()]\n",
    "    words = [word for word in words if word not in stopwords.words('spanish')]\n",
    "    return words"
   ]
  },
  {
   "cell_type": "code",
   "execution_count": 15,
   "metadata": {},
   "outputs": [
    {
     "name": "stdout",
     "output_type": "stream",
     "text": [
      "('El sol no regresa', 'La quinta estacion')\n",
      "\n"
     ]
    }
   ],
   "source": [
    "\n",
    "\n",
    "#songs[0:60]\n",
    "\n",
    "minisongs = [(\"El sol no regresa\", \"La quinta estacion\")]\n",
    "for song in minisongs:\n",
    "    print(song)\n",
    "\n",
    "print(\"\")\n",
    "\n",
    "\n",
    "#Define get_words(lyr) function, that takes a string and \n",
    "#tokenize it, remove punctuation and stop words in spanish, lowering the case\n",
    "#and returning a list of words\n",
    "\n",
    "\n",
    "import nltk\n",
    "from nltk.corpus import stopwords\n",
    "from nltk.tokenize import word_tokenize\n",
    "from nltk.tokenize import RegexpTokenizer\n",
    "import string\n",
    "\n",
    "\n",
    "print(et_words(\"Hola, ¿cómo estás?\")\n",
    "\n",
    "\n",
    "\n"
   ]
  },
  {
   "cell_type": "code",
   "execution_count": 7,
   "metadata": {},
   "outputs": [
    {
     "ename": "NameError",
     "evalue": "name 'get_words' is not defined",
     "output_type": "error",
     "traceback": [
      "\u001b[0;31m---------------------------------------------------------------------------\u001b[0m",
      "\u001b[0;31mNameError\u001b[0m                                 Traceback (most recent call last)",
      "Cell \u001b[0;32mIn[7], line 24\u001b[0m\n\u001b[1;32m     18\u001b[0m         \u001b[39mreturn\u001b[39;00m lyrics[:\u001b[39m-\u001b[39m\u001b[39m7\u001b[39m]\n\u001b[1;32m     23\u001b[0m \u001b[39mfor\u001b[39;00m song \u001b[39min\u001b[39;00m minisongs[\u001b[39m0\u001b[39m:\u001b[39m2\u001b[39m]:\n\u001b[0;32m---> 24\u001b[0m     \u001b[39mprint\u001b[39m(lyricsToWords(song))\n",
      "Cell \u001b[0;32mIn[7], line 17\u001b[0m, in \u001b[0;36mlyricsToWords\u001b[0;34m(lyrPair)\u001b[0m\n\u001b[1;32m     15\u001b[0m lyrics \u001b[39m=\u001b[39m lyrics[\u001b[39m'\u001b[39m\u001b[39mmessage\u001b[39m\u001b[39m'\u001b[39m][\u001b[39m'\u001b[39m\u001b[39mbody\u001b[39m\u001b[39m'\u001b[39m][\u001b[39m'\u001b[39m\u001b[39mlyrics\u001b[39m\u001b[39m'\u001b[39m][\u001b[39m'\u001b[39m\u001b[39mlyrics_body\u001b[39m\u001b[39m'\u001b[39m]\n\u001b[1;32m     16\u001b[0m \u001b[39m#split lyrics by \\n\u001b[39;00m\n\u001b[0;32m---> 17\u001b[0m lyrics \u001b[39m=\u001b[39m get_words(lyrics)\n\u001b[1;32m     18\u001b[0m \u001b[39mreturn\u001b[39;00m lyrics[:\u001b[39m-\u001b[39m\u001b[39m7\u001b[39m]\n",
      "\u001b[0;31mNameError\u001b[0m: name 'get_words' is not defined"
     ]
    }
   ],
   "source": [
    "from musixmatch import Musixmatch\n",
    "\n",
    "musixmatch = Musixmatch(MUSICXMATCH)\n",
    "\n",
    "#serach for a songh without the artist parameter\n",
    "lyricslist = []\n",
    "def lyricsToWords(lyrPair):\n",
    "    song = musixmatch.matcher_track_get(lyrPair[0],lyrPair[1])\n",
    "    track_id = song['message']['body']['track']['track_id']\n",
    "    lyrics = musixmatch.track_lyrics_get(track_id=track_id)\n",
    "\n",
    "    if lyrics['message']['body'] == []:\n",
    "        pass\n",
    "    else:\n",
    "        lyrics = lyrics['message']['body']['lyrics']['lyrics_body']\n",
    "        #split lyrics by \\n\n",
    "        lyrics = get_words(lyrics)\n",
    "        return lyrics[:-7]\n",
    "\n",
    "\n",
    "\n",
    "\n",
    "for song in minisongs[0:2]:\n",
    "    print(lyricsToWords(song))"
   ]
  },
  {
   "cell_type": "code",
   "execution_count": null,
   "metadata": {},
   "outputs": [],
   "source": []
  }
 ],
 "metadata": {
  "kernelspec": {
   "display_name": "spiteorlove",
   "language": "python",
   "name": "python3"
  },
  "language_info": {
   "codemirror_mode": {
    "name": "ipython",
    "version": 3
   },
   "file_extension": ".py",
   "mimetype": "text/x-python",
   "name": "python",
   "nbconvert_exporter": "python",
   "pygments_lexer": "ipython3",
   "version": "3.11.3"
  },
  "orig_nbformat": 4
 },
 "nbformat": 4,
 "nbformat_minor": 2
}
