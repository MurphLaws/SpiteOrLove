{
 "cells": [
  {
   "cell_type": "code",
   "execution_count": 2,
   "metadata": {},
   "outputs": [
    {
     "name": "stdout",
     "output_type": "stream",
     "text": [
      "Despecho  by  ['Manuel Turizo']\n",
      "DESPECHÁ  by  ['ROSALÍA']\n",
      "DESPECHÁ  by  ['ROSALÍA']\n",
      "Despecho(Cumbia)  by  ['VilmarieFresh']\n",
      "DESPECHÁ RMX  by  ['ROSALÍA', 'Cardi B']\n",
      "Despecho Nuevo  by  ['Nibal', 'Paula Cendejas']\n",
      "Despecho  by  ['Monarcas De Gdlp V2']\n",
      "Despechá  by  ['Bad Bunn']\n",
      "Despecho y Traición  by  ['Freddy Burbano', 'Yeison Jimenez']\n",
      "Despecho  by  ['Gilberto Monroig']\n"
     ]
    }
   ],
   "source": [
    "import pandas as pd\n",
    "import spotipy  \n",
    "from spotipy.oauth2 import SpotifyClientCredentials\n",
    "\n",
    "\n",
    "CLIENT_ID = '1642193c71e54e73a26b3afff81ae450'\n",
    "SECRET_ID = '67d80cd15d3b42dfadb5ee3f6ce3e319'\n",
    "\n",
    "client_credentials_manager = SpotifyClientCredentials(client_id=CLIENT_ID, client_secret=SECRET_ID)\n",
    "sp = spotipy.Spotify(client_credentials_manager=client_credentials_manager)\n",
    "\n",
    "results = sp.search(q='Despecho', type='track')\n",
    "#Print the name of each song\n",
    "\n",
    "\n",
    "#firstSong = results['tracks']['items'][0]\n",
    "#firstSong['artists'][0]['name']\n",
    "\n",
    "songs = []\n",
    "for song in results['tracks']['items']:\n",
    "   songs.append((song['name'], [artist['name'] for artist in song['artists']]))\n",
    "\n",
    "for song in songs:\n",
    "   print(song[0],' by ',song[1])"
   ]
  },
  {
   "cell_type": "code",
   "execution_count": 3,
   "metadata": {},
   "outputs": [],
   "source": [
    "from lyricsgenius import Genius\n",
    "import requests\n",
    "\n",
    "access_token = 'JfmrDIxO9rUIxQ1mvfqsGpJWfIKAr-vShsaLM5GycEvGvOe1RVp_YjjwsMWZzr73'\n",
    "\n"
   ]
  },
  {
   "cell_type": "code",
   "execution_count": 4,
   "metadata": {},
   "outputs": [
    {
     "ename": "TypeError",
     "evalue": "Genius.search_song() got an unexpected keyword argument 'per_page'",
     "output_type": "error",
     "traceback": [
      "\u001b[0;31m---------------------------------------------------------------------------\u001b[0m",
      "\u001b[0;31mTypeError\u001b[0m                                 Traceback (most recent call last)",
      "Cell \u001b[0;32mIn[4], line 71\u001b[0m\n\u001b[1;32m     46\u001b[0m start_library \u001b[39m=\u001b[39m time\u001b[39m.\u001b[39mtime()\n\u001b[1;32m     48\u001b[0m \u001b[39m'''\u001b[39;00m\n\u001b[1;32m     49\u001b[0m \u001b[39mn = 100\u001b[39;00m\n\u001b[1;32m     50\u001b[0m \n\u001b[0;32m   (...)\u001b[0m\n\u001b[1;32m     68\u001b[0m \u001b[39mprint(f\"Elapsed time: {elapsed_request/100} seconds\")\u001b[39;00m\n\u001b[1;32m     69\u001b[0m \u001b[39m'''\u001b[39;00m\n\u001b[0;32m---> 71\u001b[0m \u001b[39mprint\u001b[39m(get_lyrics(\u001b[39m'\u001b[39;49m\u001b[39mLoca\u001b[39;49m\u001b[39m'\u001b[39;49m, \u001b[39m'\u001b[39;49m\u001b[39mKhea\u001b[39;49m\u001b[39m'\u001b[39;49m))\n",
      "Cell \u001b[0;32mIn[4], line 16\u001b[0m, in \u001b[0;36mget_lyrics\u001b[0;34m(song_name, artist_name)\u001b[0m\n\u001b[1;32m     14\u001b[0m genius\u001b[39m.\u001b[39mremove_section_headers\u001b[39m=\u001b[39m\u001b[39mTrue\u001b[39;00m\n\u001b[1;32m     15\u001b[0m genius\u001b[39m.\u001b[39mskip_non_songs \u001b[39m=\u001b[39m \u001b[39mTrue\u001b[39;00m\n\u001b[0;32m---> 16\u001b[0m song \u001b[39m=\u001b[39m genius\u001b[39m.\u001b[39;49msearch_song(query,per_page\u001b[39m=\u001b[39;49m\u001b[39m1\u001b[39;49m)\n\u001b[1;32m     17\u001b[0m \u001b[39mif\u001b[39;00m song \u001b[39mis\u001b[39;00m \u001b[39mnot\u001b[39;00m \u001b[39mNone\u001b[39;00m:\n\u001b[1;32m     18\u001b[0m     lyrics \u001b[39m=\u001b[39m song\u001b[39m.\u001b[39mlyrics\n",
      "\u001b[0;31mTypeError\u001b[0m: Genius.search_song() got an unexpected keyword argument 'per_page'"
     ]
    }
   ],
   "source": [
    "import lyricsgenius\n",
    "import time\n",
    "\n",
    "# Get the current time\n",
    "\n",
    "\n",
    "\n",
    "#define a function aht takes in a song name and artist name and returns the lyrics\n",
    "def get_lyrics(song_name, artist_name):\n",
    "    lyrics = \"\"\n",
    "    query = f\"{song_name} {artist_name}\"\n",
    "    genius = lyricsgenius.Genius(access_token)\n",
    "    genius.verbose = False\n",
    "    genius.remove_section_headers=True\n",
    "    genius.skip_non_songs = True\n",
    "    song = genius.search_song(query,per_page=1)\n",
    "    if song is not None:\n",
    "        lyrics = song.lyrics\n",
    "        lyrics = lyrics.split('\\n', 1)[1]\n",
    "    else:\n",
    "        lyrics = ''\n",
    "    return lyrics\n",
    "\n",
    "\n",
    "#define a function that takes in a song name and artist name and returns the song lyrics\n",
    "#but using the request library\n",
    "\n",
    "def get_lyrics2(song_name, artist_name):\n",
    "    query = f\"{song_name} {artist_name}\"\n",
    "    genius = lyricsgenius.Genius(access_token)\n",
    "    genius.verbose = False\n",
    "    genius.remove_section_headers=True\n",
    "    genius.skip_non_songs = True\n",
    "    \n",
    "\n",
    "    song = genius.search_song(query)\n",
    "    if song is not None:\n",
    "        lyrics = song.lyrics\n",
    "        lyrics = lyrics.split('\\n', 1)[1]\n",
    "    else:\n",
    "        lyrics = ''\n",
    "    return lyrics\n",
    "\n",
    "\n",
    "#Timing of the library get lyrics function\n",
    "start_library = time.time()\n",
    "\n",
    "'''\n",
    "n = 100\n",
    "\n",
    "for i in range(1,n):\n",
    "    get_lyrics('La cancion', 'J Balvin')\n",
    "\n",
    "elapsed_library = time.time() - start_library\n",
    "\n",
    "\n",
    "#Timing of the request library get lyrics function\n",
    "start_request = time.time()\n",
    "\n",
    "for i in range(1,n):\n",
    "    get_lyrics2('La cancion', 'J Balvin')\n",
    "\n",
    "elapsed_request = time.time() - start_request\n",
    "\n",
    "\n",
    "# Print the elapsed time in seconds\n",
    "print(f\"Elapsed time: {elapsed_library/100} seconds\")\n",
    "print(f\"Elapsed time: {elapsed_request/100} seconds\")\n",
    "'''\n",
    "\n",
    "print(get_lyrics('Loca', 'Khea'))\n",
    "\n",
    "\n"
   ]
  },
  {
   "attachments": {},
   "cell_type": "markdown",
   "metadata": {},
   "source": [
    "Elapsed time: 1.4565883040428163 seconds <br>\n",
    "Elapsed time: 1.456609423160553 seconds\n",
    "\n",
    "We've got a mean time of 1.45 seconds for both approaches: Using the Genius API Library for Python or using the `request` Library. We can conclude that the use of `lyricsgenius` library does not add a considerable time to the Lyrics scraping. "
   ]
  },
  {
   "cell_type": "code",
   "execution_count": null,
   "metadata": {},
   "outputs": [],
   "source": [
    "lyrics = [get_lyrics(song[0], song[1]) for song in songs]"
   ]
  },
  {
   "cell_type": "code",
   "execution_count": null,
   "metadata": {},
   "outputs": [
    {
     "name": "stdout",
     "output_type": "stream",
     "text": [
      "('Despechá', 'Bad Bunn')\n"
     ]
    },
    {
     "data": {
      "text/plain": [
       "'2.  \"DESPECHÁ\" - ROSALÍA\\n3.  \"Tití Me Preguntó\" - Bad Bunny\\n4.  \"Me Porto Bonito\" - Bad Bunny & Chencho Corlene\\n5.  \"La Bachata\" - Manuel Turizo\\n6.  \"Moscow Mule\" - Bad Bunny\\n7.  \"MAMIII\" - Becky G. & Karol G\\n8.  \"Te Felicito\" - Shakira & Rauw Alejandro\\n9.  \"PROVENZA\" - KAROL G\\n10. \"Cayó La Noche (feat. Cruz Cafuné, Abhir Hathi, Bejo, EL IMA) \" - La Pantera\\n11. \"Tarot\" - Bad Bunny & Jhay Cortez\\n12. \"Desesperados\" - Rauw Alejandro & Chencho Corlene\\n13. \"Ojitos Lindos\" - Bad Bunny & Bomba Estéreo\\n14. \"Tiago PZK: Bzrp Music Sessions, Vol. 48\" - Bizarrap & Tiago PZK\\n15. \"As It Was\" - Harry Styles\\n16. \"MEMORIAS\" - Mora & Jhay Cortez\\n17. \"mariposas\" - Sangiovanni\\n18. \"Party\" - Bad Bunny & Rauw Alejandro\\n19. \"Pelele\" - Morad\\n20. \"Mi Luz\" - Rvfv & Rels B\\n21. \"Música Ligera\" - Ana Mena\\n22. \"LAS 12\" - Ana Mena\\n23. \"Bam Bam (feat. Ed Sheeran)\" - Camila Cabello\\n24. \"Cúrame\" - Rauw Alejandro\\n25. \"LA INOCENTE\" - Mora & Feid\\n26. \"Pantysito\" - Alejo, Feid & Robi\\n27. \"Sin Señal\" - Quevedo & Ovy On The Drums\\n28. \"Una Noche en Medellín\" - Cris Mj\\n29. \"Fuera del mercado\" - Danny Ocean\\n30. \"SloMo\" - Chanel\\n31. \"SAOKO\" - ROSALÍA\\n32. \"TUS LÁGRIMAS\" - Mora & Sech\\n33. \"CANDY\" - ROSALÍA\\n34. \"Ay Mamá\" - Rigoberta Bandini\\n35. \"Tigini (Remix)\" - Kikimoteleba\\n36. \"En El Coche\" - Aitana\\n37. \"La Corriente\" - Bad Bunny & Tony Dize\\n38. \"Sigue\" - Beny Jr, Morad & K y B\\n39. \"La Llevo Al Cielo\" - Chris Jedi, Chencho Corleone, Anuel AA & Ñengo Flow\\n40. \"Caile\" - Luar La L\\n41. \"VISTA AL MAR\" - Quevedo\\n42. \"Algodón de azúcar\" - Chema Rivas\\n43. \"Dile a los demás\" - Dani Fernández\\n44. \"Normal\" - Feid\\n45. \"Where Are You Now\" - Lost Frequencies & Calum Scott\\n46. \"Si Quieren Frontear\" - Duki & Quevedo\\n47. \"LOKERA\" - Rauw Alejandro, Lyanno & Brray\\n48. \"Medallo\" - Blessd, Justin Quiles & Lenny Tavárez\\n49. \"ULTRA SOLO\" - Polimá WestCoast & Pailita\\n50. \"Paulo Londra: Bzrp Music Sessions, Vol. 23\" - Bizarrap & Paulo Londra\\n51. \"Ojos Rojos\" - Nicky Jam\\n52. \"La Llama del Amor (Riega Este Querer - Rumba/Alborea)\" - Omar Montes\\n53. \"Heat Waves\" - Glass Animals\\n54. \"CHICKEN TERIYAKI\" - ROSALÍA\\n55. \"Piel de Cordero\" - Quevedo & La Pantera\\n56. \"LA FAMA\" - ROSALÍA\\n57. \"LA COMBI VERSACE\" - ROSALÍA\\n58. \"Pegao\" - Camilo\\n59. \"abcdefu\" - GAYLE\\n60. \"Mami\" - Rvfv & Pablo Mas\\n61. \"Loco\" - Justin Quiles, Chimbala & Zion & Lennox\\n62. \"Mujeriego\" - Ryan Castro\\n63. \"Buenos Días\" - Wisin, Camilo & Los Legendarios\\n64. \"Quiero Decirte\" - Abraham Mateo\\n65. \"Enemy (From the series \"Arcane League of Legends\")\" - Imagine Dragons & JID\\n66. \"Quieres\" - Aitana, Emilia & Ptazeta\\n67. \"AEIOU\" - Justin Quiles & Robin Schulz\\n68. \"Flow 2000 (Remix)\" - Bad Gyal & Beny Jr\\n69. \"Si Tú Te Vas (feat. Yung Beef) \" - Omar Montes, Khaled & Kaydy Cain\\n70. \"Toy Story\" - Lola Índigo\\n71. \"X ÚLTIMA VEZ\" - Daddy Yankee & Bad Bunny\\n72. \"No Te Deseo el Mal\" - Eladio Carrión & Karol G\\n73. \"Desde Mis Ojos (Remix)\" - Chris Lebron, Sech & Jay Wheeler\\n74. \"A Contracorriente\" - Alvaro Soler & David Bisbal\\n75. \"Número 1\" - Oscu & Nobeat\\n76. \"La Prendo\" - Bad Gyal\\n77. \"Envolver\" - Anitta\\n78. \"FUE\" - Manuel Carrasco\\n79. \"THATS WHAT I WANT\" - Lil Nas X\\n80. \"Plan A\" - Paulo Londra\\n81. \"El Fin del Mundo (feat. Axolotes Mexicanos)\" - La La Love You\\n82. \"París\" - Morat & Duki\\n83. \"Ferxxo 100\" - Feid\\n84. \"Yatekomo\" - Juseph & Quevedo\\n85. \"cómo dormiste?\" - Rels B\\n86. \"RUMBATÓN\" - Daddy Yankee\\n87. \"Tu Y Yo (feat. Los del Control)\" - Cano\\n88. \"Súbelo\" - Anuel AA, Myke Towers & Jhay Cortez\\n89. \"DONT YOU WORRY\" - Black Eyed Peas, Shakira & David Guetta\\n90. \"Residente: Bzrp Music Sessions, Vol. 49\" - Bizarrap & Residente\\n91. \"TOP 5\" - Duki\\n92. \"El día menos pensado\" - Beret\\n93. \"The Motto\" - Tiësto & Ava Max\\n94. \"Sensual Bebé\" - Jhayco\\n95. \"Levantaremos al sol\" - Alvaro De Luna\\n96. \"Suelta\" - Jay Wheeler & Mora\\n97. \"BREAK MY SOUL\" - Beyoncé\\n98. \"About Damn Time\" - Lizzo\\n99. \"WOW BB\" - Natti Natasha, El Alfa & Chimbala\\n100. \"Formentera\" - Aitana & Nicki NicoleEmbed'"
      ]
     },
     "execution_count": 24,
     "metadata": {},
     "output_type": "execute_result"
    }
   ],
   "source": [
    "print(songs[7])\n",
    "lyrics[7]"
   ]
  },
  {
   "cell_type": "code",
   "execution_count": null,
   "metadata": {},
   "outputs": [],
   "source": [
    "#Write the lyrics to a file, each luyric on a new line but before the next lyric, write the name of the song and the artist\n",
    "with open('lyrics.txt', 'w') as f:\n",
    "    for i in range(len(songs)):\n",
    "        f.write('*****' + songs[i][0] + ' by ' + songs[i][1] ++ '\\n')\n",
    "        f.write(lyrics[i] + '\\n')"
   ]
  },
  {
   "cell_type": "code",
   "execution_count": 13,
   "metadata": {},
   "outputs": [
    {
     "name": "stdout",
     "output_type": "stream",
     "text": [
      "None\n"
     ]
    }
   ],
   "source": [
    "song = \"Despechá\"\n",
    "artist = \"Bad Bunn\"\n",
    "\n",
    "#Get the artist id of bad bunny on genius api\n",
    "genius = lyricsgenius.Genius(access_token)\n",
    "genius.verbose = False\n",
    "genius.remove_section_headers=True\n",
    "genius.skip_non_songs = True\n",
    "artist_id = genius.search_artist(artist, max_songs=0).id\n",
    "\n",
    "artist_id\n",
    "\n",
    "\n",
    "song = genius.search_song(\"yonaguni\", artist=artist_id)\n",
    "\n",
    "if song is not None:\n",
    "    lyrics = song.lyrics\n",
    "    print(lyrics.split('\\n', 1)[1])\n",
    "else:\n",
    "    print('None')\n",
    "\n",
    "\n"
   ]
  },
  {
   "cell_type": "code",
   "execution_count": null,
   "metadata": {},
   "outputs": [],
   "source": [
    "\"\""
   ]
  }
 ],
 "metadata": {
  "kernelspec": {
   "display_name": "spiteorlove",
   "language": "python",
   "name": "python3"
  },
  "language_info": {
   "codemirror_mode": {
    "name": "ipython",
    "version": 3
   },
   "file_extension": ".py",
   "mimetype": "text/x-python",
   "name": "python",
   "nbconvert_exporter": "python",
   "pygments_lexer": "ipython3",
   "version": "3.11.3"
  },
  "orig_nbformat": 4
 },
 "nbformat": 4,
 "nbformat_minor": 2
}
